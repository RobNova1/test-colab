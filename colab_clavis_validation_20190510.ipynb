{
  "nbformat": 4,
  "nbformat_minor": 0,
  "metadata": {
    "colab": {
      "name": "colab-clavis-validation-20190510.ipynb",
      "version": "0.3.2",
      "provenance": [],
      "collapsed_sections": [],
      "toc_visible": true,
      "include_colab_link": true
    },
    "language_info": {
      "codemirror_mode": {
        "name": "ipython",
        "version": 3
      },
      "file_extension": ".py",
      "mimetype": "text/x-python",
      "name": "python",
      "nbconvert_exporter": "python",
      "pygments_lexer": "ipython3",
      "version": "3.7.0"
    },
    "kernelspec": {
      "display_name": "Python 3",
      "language": "python",
      "name": "python3"
    }
  },
  "cells": [
    {
      "cell_type": "markdown",
      "metadata": {
        "id": "view-in-github",
        "colab_type": "text"
      },
      "source": [
        "<a href=\"https://colab.research.google.com/github/RobNova1/test-colab/blob/master/colab_clavis_validation_20190510.ipynb\" target=\"_parent\"><img src=\"https://colab.research.google.com/assets/colab-badge.svg\" alt=\"Open In Colab\"/></a>"
      ]
    },
    {
      "cell_type": "markdown",
      "metadata": {
        "id": "fFHl_Y--TqE2",
        "colab_type": "text"
      },
      "source": [
        "# CLAVIS VALIDATION - PRICE PROMOTIONS\n",
        "\n",
        "- Using the Clavis - Price Promotions file downloaded from CLAVIS SITE, NOT AUTOMATED SCRIPT\n",
        "- Report Date: 2019-05-10"
      ]
    },
    {
      "cell_type": "markdown",
      "metadata": {
        "id": "2UuCF-OZTqE5",
        "colab_type": "text"
      },
      "source": [
        "# For Reference:\n",
        "___\n",
        "\n",
        " <img src='https://drive.google.com/open?id=1BCHiW_LZwZRVOhfVa91uLEeQDAXoyey7' width='600'/>\n",
        "___"
      ]
    },
    {
      "cell_type": "markdown",
      "metadata": {
        "id": "vLGb_WlvUjQs",
        "colab_type": "text"
      },
      "source": [
        "content/sample_data/california_housing_train.csv\n",
        "\n",
        "content/prpromo-2019-05-10.png"
      ]
    },
    {
      "cell_type": "markdown",
      "metadata": {
        "id": "WoxUjhufTqE6",
        "colab_type": "text"
      },
      "source": [
        "** Import pandas as pd.**"
      ]
    },
    {
      "cell_type": "code",
      "metadata": {
        "id": "2UPL_T10TqE8",
        "colab_type": "code",
        "colab": {}
      },
      "source": [
        "import pandas as pd"
      ],
      "execution_count": 0,
      "outputs": []
    },
    {
      "cell_type": "code",
      "metadata": {
        "id": "0z6UHKFaTqFE",
        "colab_type": "code",
        "colab": {}
      },
      "source": [
        "pd.set_option('display.max_rows', 500)\n",
        "pd.set_option('display.max_columns', 500)\n",
        "pd.set_option('display.width', 1000)"
      ],
      "execution_count": 0,
      "outputs": []
    },
    {
      "cell_type": "markdown",
      "metadata": {
        "id": "jQDlpUKifwXc",
        "colab_type": "text"
      },
      "source": [
        "Authenticat Google Cloud."
      ]
    },
    {
      "cell_type": "code",
      "metadata": {
        "id": "67Yq2sYBfnM3",
        "colab_type": "code",
        "colab": {
          "base_uri": "https://localhost:8080/",
          "height": 34
        },
        "outputId": "40a3717c-40e8-4a03-8123-e6810225cdab"
      },
      "source": [
        "from google.colab import auth\n",
        "auth.authenticate_user()\n",
        "print('Authenticated')"
      ],
      "execution_count": 22,
      "outputs": [
        {
          "output_type": "stream",
          "text": [
            "Authenticated\n"
          ],
          "name": "stdout"
        }
      ]
    },
    {
      "cell_type": "code",
      "metadata": {
        "id": "3qLo9vf4lRxq",
        "colab_type": "code",
        "colab": {}
      },
      "source": [
        " GCLOUD_PROJECT='cp-gaa-visualization-dev'"
      ],
      "execution_count": 0,
      "outputs": []
    },
    {
      "cell_type": "code",
      "metadata": {
        "id": "dYewgRD_eZyd",
        "colab_type": "code",
        "colab": {
          "base_uri": "https://localhost:8080/",
          "height": 34
        },
        "outputId": "06d00c2d-ae78-4c75-8cd4-8cf824d48bff"
      },
      "source": [
        "from google.colab import drive\n",
        "drive.mount('/content/drive')"
      ],
      "execution_count": 21,
      "outputs": [
        {
          "output_type": "stream",
          "text": [
            "Drive already mounted at /content/drive; to attempt to forcibly remount, call drive.mount(\"/content/drive\", force_remount=True).\n"
          ],
          "name": "stdout"
        }
      ]
    },
    {
      "cell_type": "markdown",
      "metadata": {
        "id": "gBUD-r89TqFM",
        "colab_type": "text"
      },
      "source": [
        "** Read Price_-_Products-2019-05-10.csv as a dataframe called prpromo.**"
      ]
    },
    {
      "cell_type": "code",
      "metadata": {
        "id": "NbCdJ_9_TqFO",
        "colab_type": "code",
        "colab": {}
      },
      "source": [
        "#prpromo = pd.read_csv('Price_-_Products-2019-05-10.csv')\n",
        "\n",
        "path = \"/content/drive/My Drive/colab-data/Price_-_Products-2019-05-10.csv\"\n",
        "prpromo = pd.read_csv(path)"
      ],
      "execution_count": 0,
      "outputs": []
    },
    {
      "cell_type": "markdown",
      "metadata": {
        "id": "dzBwGM8PTqFU",
        "colab_type": "text"
      },
      "source": [
        "** Check the head of the DataFrame. **"
      ]
    },
    {
      "cell_type": "markdown",
      "metadata": {
        "id": "9YuBRsiJTqFW",
        "colab_type": "text"
      },
      "source": [
        "** Use the .info() method to find out how many entries there are.**"
      ]
    },
    {
      "cell_type": "code",
      "metadata": {
        "hiddenCell": true,
        "id": "XpO2ctYMTqFY",
        "colab_type": "code",
        "colab": {
          "base_uri": "https://localhost:8080/",
          "height": 806
        },
        "outputId": "ee584d20-9096-4022-fe67-a84d4e72b2b5"
      },
      "source": [
        "prpromo.info() # 148654 Entries"
      ],
      "execution_count": 7,
      "outputs": [
        {
          "output_type": "stream",
          "text": [
            "<class 'pandas.core.frame.DataFrame'>\n",
            "RangeIndex: 888 entries, 0 to 887\n",
            "Data columns (total 42 columns):\n",
            "report_date                    888 non-null object\n",
            "trusted_upc                    140 non-null float64\n",
            "trusted_rpc                    888 non-null object\n",
            "trusted_mpc                    106 non-null object\n",
            "trusted_product_description    888 non-null object\n",
            "region                         888 non-null object\n",
            "online_store                   888 non-null object\n",
            "brand                          888 non-null object\n",
            "manufacturer                   888 non-null object\n",
            "category                       888 non-null object\n",
            "Sub-Category                   888 non-null object\n",
            "dimension2                     888 non-null object\n",
            "High Level Segmentation        888 non-null object\n",
            "Sub-Brand                      888 non-null object\n",
            "MAP                            888 non-null object\n",
            "PrimePantry                    888 non-null object\n",
            "Core SKU                       888 non-null object\n",
            "dimension8                     888 non-null object\n",
            "availability_status            888 non-null object\n",
            "currency                       888 non-null object\n",
            "observed_price                 888 non-null float64\n",
            "store_list_price               685 non-null float64\n",
            "min_price                      77 non-null float64\n",
            "max_price                      77 non-null float64\n",
            "min_diff_amount                77 non-null float64\n",
            "min_diff_pct                   77 non-null float64\n",
            "min_max_diff_pct               77 non-null float64\n",
            "min_max_diff_price             77 non-null float64\n",
            "msrp                           77 non-null float64\n",
            "msrp_diff_pct                  77 non-null float64\n",
            "msrp_diff_amount               77 non-null float64\n",
            "previous_day_price             888 non-null float64\n",
            "previous_day_diff_pct          888 non-null int64\n",
            "previous_day_diff_amount       888 non-null float64\n",
            "net_price                      888 non-null float64\n",
            "list_price                     888 non-null float64\n",
            "discount_percent               888 non-null float64\n",
            "discount_amount                888 non-null float64\n",
            "promotion_id                   888 non-null int64\n",
            "promotion_type                 888 non-null object\n",
            "promotion_text                 888 non-null object\n",
            "url                            888 non-null object\n",
            "dtypes: float64(18), int64(2), object(22)\n",
            "memory usage: 291.5+ KB\n"
          ],
          "name": "stdout"
        }
      ]
    },
    {
      "cell_type": "code",
      "metadata": {
        "id": "S8yU7wLbTqFf",
        "colab_type": "code",
        "colab": {}
      },
      "source": [
        "#prpromo.groupby('online_store')['net_price'].sum()"
      ],
      "execution_count": 0,
      "outputs": []
    },
    {
      "cell_type": "code",
      "metadata": {
        "id": "6LzZcQM6TqFq",
        "colab_type": "code",
        "colab": {}
      },
      "source": [
        "df = prpromo[['trusted_rpc','trusted_product_description', 'online_store', 'net_price', 'discount_percent']]"
      ],
      "execution_count": 0,
      "outputs": []
    },
    {
      "cell_type": "markdown",
      "metadata": {
        "id": "3ZNagxhPTqFu",
        "colab_type": "text"
      },
      "source": [
        "# Test a few products"
      ]
    },
    {
      "cell_type": "code",
      "metadata": {
        "id": "U9geMVzjTqFy",
        "colab_type": "code",
        "colab": {
          "base_uri": "https://localhost:8080/",
          "height": 77
        },
        "outputId": "e0435a03-58c7-4db8-fadb-58b607b1eb4e"
      },
      "source": [
        "df[df['trusted_product_description'].str.contains('Febreze')]"
      ],
      "execution_count": 9,
      "outputs": [
        {
          "output_type": "execute_result",
          "data": {
            "text/html": [
              "<div>\n",
              "<style scoped>\n",
              "    .dataframe tbody tr th:only-of-type {\n",
              "        vertical-align: middle;\n",
              "    }\n",
              "\n",
              "    .dataframe tbody tr th {\n",
              "        vertical-align: top;\n",
              "    }\n",
              "\n",
              "    .dataframe thead th {\n",
              "        text-align: right;\n",
              "    }\n",
              "</style>\n",
              "<table border=\"1\" class=\"dataframe\">\n",
              "  <thead>\n",
              "    <tr style=\"text-align: right;\">\n",
              "      <th></th>\n",
              "      <th>trusted_rpc</th>\n",
              "      <th>trusted_product_description</th>\n",
              "      <th>online_store</th>\n",
              "      <th>net_price</th>\n",
              "      <th>discount_percent</th>\n",
              "    </tr>\n",
              "  </thead>\n",
              "  <tbody>\n",
              "    <tr>\n",
              "      <th>14</th>\n",
              "      <td>B07BWT78SL</td>\n",
              "      <td>Bounce Plus Febreze Sport Odor Defense Fabric ...</td>\n",
              "      <td>Amazon</td>\n",
              "      <td>11.61</td>\n",
              "      <td>14.7</td>\n",
              "    </tr>\n",
              "  </tbody>\n",
              "</table>\n",
              "</div>"
            ],
            "text/plain": [
              "   trusted_rpc                        trusted_product_description online_store  net_price  discount_percent\n",
              "14  B07BWT78SL  Bounce Plus Febreze Sport Odor Defense Fabric ...       Amazon      11.61              14.7"
            ]
          },
          "metadata": {
            "tags": []
          },
          "execution_count": 9
        }
      ]
    },
    {
      "cell_type": "code",
      "metadata": {
        "id": "kIxX6ccmTqF9",
        "colab_type": "code",
        "colab": {
          "base_uri": "https://localhost:8080/",
          "height": 195
        },
        "outputId": "d6b039f0-4cf5-4c91-a346-00ae257e03ce"
      },
      "source": [
        "df[df['trusted_product_description'].str.contains('360')].head()"
      ],
      "execution_count": 10,
      "outputs": [
        {
          "output_type": "execute_result",
          "data": {
            "text/html": [
              "<div>\n",
              "<style scoped>\n",
              "    .dataframe tbody tr th:only-of-type {\n",
              "        vertical-align: middle;\n",
              "    }\n",
              "\n",
              "    .dataframe tbody tr th {\n",
              "        vertical-align: top;\n",
              "    }\n",
              "\n",
              "    .dataframe thead th {\n",
              "        text-align: right;\n",
              "    }\n",
              "</style>\n",
              "<table border=\"1\" class=\"dataframe\">\n",
              "  <thead>\n",
              "    <tr style=\"text-align: right;\">\n",
              "      <th></th>\n",
              "      <th>trusted_rpc</th>\n",
              "      <th>trusted_product_description</th>\n",
              "      <th>online_store</th>\n",
              "      <th>net_price</th>\n",
              "      <th>discount_percent</th>\n",
              "    </tr>\n",
              "  </thead>\n",
              "  <tbody>\n",
              "    <tr>\n",
              "      <th>20</th>\n",
              "      <td>944139</td>\n",
              "      <td>Colgate 360 4 Zone Whole Mouth Clean Toothbrus...</td>\n",
              "      <td>Walgreens</td>\n",
              "      <td>3.99</td>\n",
              "      <td>13.07</td>\n",
              "    </tr>\n",
              "    <tr>\n",
              "      <th>21</th>\n",
              "      <td>B006K3NBVQ</td>\n",
              "      <td>Colgate 360 Adult Full Head Soft Toothbrush, T...</td>\n",
              "      <td>Amazon</td>\n",
              "      <td>2.99</td>\n",
              "      <td>25.06</td>\n",
              "    </tr>\n",
              "    <tr>\n",
              "      <th>22</th>\n",
              "      <td>235889</td>\n",
              "      <td>Colgate 360 Advanced Optic White Toothbrush, Soft</td>\n",
              "      <td>CVS</td>\n",
              "      <td>3.99</td>\n",
              "      <td>38.52</td>\n",
              "    </tr>\n",
              "    <tr>\n",
              "      <th>23</th>\n",
              "      <td>381499</td>\n",
              "      <td>Colgate 360 Charcoal Toothbrush Slimmer Tip So...</td>\n",
              "      <td>CVS</td>\n",
              "      <td>3.99</td>\n",
              "      <td>38.52</td>\n",
              "    </tr>\n",
              "    <tr>\n",
              "      <th>24</th>\n",
              "      <td>435546</td>\n",
              "      <td>Colgate 360 Optic White Full Head Toothbrush, ...</td>\n",
              "      <td>Walgreens</td>\n",
              "      <td>3.99</td>\n",
              "      <td>6.99</td>\n",
              "    </tr>\n",
              "  </tbody>\n",
              "</table>\n",
              "</div>"
            ],
            "text/plain": [
              "   trusted_rpc                        trusted_product_description online_store  net_price  discount_percent\n",
              "20      944139  Colgate 360 4 Zone Whole Mouth Clean Toothbrus...    Walgreens       3.99             13.07\n",
              "21  B006K3NBVQ  Colgate 360 Adult Full Head Soft Toothbrush, T...       Amazon       2.99             25.06\n",
              "22      235889  Colgate 360 Advanced Optic White Toothbrush, Soft          CVS       3.99             38.52\n",
              "23      381499  Colgate 360 Charcoal Toothbrush Slimmer Tip So...          CVS       3.99             38.52\n",
              "24      435546  Colgate 360 Optic White Full Head Toothbrush, ...    Walgreens       3.99              6.99"
            ]
          },
          "metadata": {
            "tags": []
          },
          "execution_count": 10
        }
      ]
    },
    {
      "cell_type": "code",
      "metadata": {
        "id": "yG-W0rjdTqGC",
        "colab_type": "code",
        "colab": {}
      },
      "source": [
        "#prpromo[prpromo.discount_amount > 0].count()"
      ],
      "execution_count": 0,
      "outputs": []
    },
    {
      "cell_type": "code",
      "metadata": {
        "id": "UO2k0HXDTqGG",
        "colab_type": "code",
        "colab": {}
      },
      "source": [
        "#prpromo['promotion_type'].unique()"
      ],
      "execution_count": 0,
      "outputs": []
    },
    {
      "cell_type": "code",
      "metadata": {
        "id": "wsQTNkI0TqGK",
        "colab_type": "code",
        "colab": {}
      },
      "source": [
        "#prpromo['promotion_type'].str.match('Uncategorized').count()"
      ],
      "execution_count": 0,
      "outputs": []
    },
    {
      "cell_type": "markdown",
      "metadata": {
        "id": "wxISFlrYTqGN",
        "colab_type": "text"
      },
      "source": [
        " # create concat field, to drop duplicate values from"
      ]
    },
    {
      "cell_type": "code",
      "metadata": {
        "id": "_OvxYLNWTqGO",
        "colab_type": "code",
        "colab": {}
      },
      "source": [
        "prpromo['concat']=prpromo['trusted_rpc']+prpromo['online_store']\n"
      ],
      "execution_count": 0,
      "outputs": []
    },
    {
      "cell_type": "code",
      "metadata": {
        "id": "vSJSfEM-TqGR",
        "colab_type": "code",
        "colab": {}
      },
      "source": [
        "prpromo.drop_duplicates('concat', inplace=True)"
      ],
      "execution_count": 0,
      "outputs": []
    },
    {
      "cell_type": "code",
      "metadata": {
        "id": "UFL2vaP0TqGT",
        "colab_type": "code",
        "colab": {}
      },
      "source": [
        "df = prpromo[['concat','trusted_rpc','trusted_product_description', 'online_store', 'net_price', 'discount_percent']]"
      ],
      "execution_count": 0,
      "outputs": []
    },
    {
      "cell_type": "code",
      "metadata": {
        "id": "O4ye6reOTqGV",
        "colab_type": "code",
        "colab": {
          "base_uri": "https://localhost:8080/",
          "height": 134
        },
        "outputId": "1e96018c-f9fd-44fd-dc49-7c21cb772258"
      },
      "source": [
        "df.count()"
      ],
      "execution_count": 17,
      "outputs": [
        {
          "output_type": "execute_result",
          "data": {
            "text/plain": [
              "concat                         771\n",
              "trusted_rpc                    771\n",
              "trusted_product_description    771\n",
              "online_store                   771\n",
              "net_price                      771\n",
              "discount_percent               771\n",
              "dtype: int64"
            ]
          },
          "metadata": {
            "tags": []
          },
          "execution_count": 17
        }
      ]
    },
    {
      "cell_type": "code",
      "metadata": {
        "id": "Bp9XUQGfTqGX",
        "colab_type": "code",
        "colab": {
          "base_uri": "https://localhost:8080/",
          "height": 34
        },
        "outputId": "07e877b0-60ab-481b-ae87-4012a761e0d9"
      },
      "source": [
        "df['concat'].nunique()"
      ],
      "execution_count": 18,
      "outputs": [
        {
          "output_type": "execute_result",
          "data": {
            "text/plain": [
              "771"
            ]
          },
          "metadata": {
            "tags": []
          },
          "execution_count": 18
        }
      ]
    },
    {
      "cell_type": "code",
      "metadata": {
        "id": "oHZCAZ6BTqGc",
        "colab_type": "code",
        "colab": {
          "base_uri": "https://localhost:8080/",
          "height": 343
        },
        "outputId": "f9c4718d-a286-46c3-83fd-f72079d4d08f"
      },
      "source": [
        "df.sort_values('discount_percent', ascending=False).head(10)"
      ],
      "execution_count": 19,
      "outputs": [
        {
          "output_type": "execute_result",
          "data": {
            "text/html": [
              "<div>\n",
              "<style scoped>\n",
              "    .dataframe tbody tr th:only-of-type {\n",
              "        vertical-align: middle;\n",
              "    }\n",
              "\n",
              "    .dataframe tbody tr th {\n",
              "        vertical-align: top;\n",
              "    }\n",
              "\n",
              "    .dataframe thead th {\n",
              "        text-align: right;\n",
              "    }\n",
              "</style>\n",
              "<table border=\"1\" class=\"dataframe\">\n",
              "  <thead>\n",
              "    <tr style=\"text-align: right;\">\n",
              "      <th></th>\n",
              "      <th>concat</th>\n",
              "      <th>trusted_rpc</th>\n",
              "      <th>trusted_product_description</th>\n",
              "      <th>online_store</th>\n",
              "      <th>net_price</th>\n",
              "      <th>discount_percent</th>\n",
              "    </tr>\n",
              "  </thead>\n",
              "  <tbody>\n",
              "    <tr>\n",
              "      <th>356</th>\n",
              "      <td>973249Walgreens</td>\n",
              "      <td>973249</td>\n",
              "      <td>Dove Conditioner Coconut &amp; Hydration</td>\n",
              "      <td>Walgreens</td>\n",
              "      <td>0.30</td>\n",
              "      <td>93.74</td>\n",
              "    </tr>\n",
              "    <tr>\n",
              "      <th>659</th>\n",
              "      <td>75661335Target</td>\n",
              "      <td>75661335</td>\n",
              "      <td>Oral-B Rose Gold Genius 9600 Rechargeable Elec...</td>\n",
              "      <td>Target</td>\n",
              "      <td>20.00</td>\n",
              "      <td>90.00</td>\n",
              "    </tr>\n",
              "    <tr>\n",
              "      <th>569</th>\n",
              "      <td>75661329Target</td>\n",
              "      <td>75661329</td>\n",
              "      <td>Oral-B Black Genius 9600 Rechargeable Electric...</td>\n",
              "      <td>Target</td>\n",
              "      <td>20.00</td>\n",
              "      <td>90.00</td>\n",
              "    </tr>\n",
              "    <tr>\n",
              "      <th>566</th>\n",
              "      <td>75662986Target</td>\n",
              "      <td>75662986</td>\n",
              "      <td>Oral-B 9600 Orchid Purple Electric Toothbrush ...</td>\n",
              "      <td>Target</td>\n",
              "      <td>20.00</td>\n",
              "      <td>90.00</td>\n",
              "    </tr>\n",
              "    <tr>\n",
              "      <th>661</th>\n",
              "      <td>75661331Target</td>\n",
              "      <td>75661331</td>\n",
              "      <td>Oral-B Sakura Pink Genius 9600 Rechargeable El...</td>\n",
              "      <td>Target</td>\n",
              "      <td>20.00</td>\n",
              "      <td>90.00</td>\n",
              "    </tr>\n",
              "    <tr>\n",
              "      <th>509</th>\n",
              "      <td>75663807Target</td>\n",
              "      <td>75663807</td>\n",
              "      <td>Gain flings! Original Laundry Detergents - 96ct</td>\n",
              "      <td>Target</td>\n",
              "      <td>3.00</td>\n",
              "      <td>88.00</td>\n",
              "    </tr>\n",
              "    <tr>\n",
              "      <th>546</th>\n",
              "      <td>16534645Target</td>\n",
              "      <td>16534645</td>\n",
              "      <td>Oral B Cross Action Power Refill - 3 count</td>\n",
              "      <td>Target</td>\n",
              "      <td>4.95</td>\n",
              "      <td>85.83</td>\n",
              "    </tr>\n",
              "    <tr>\n",
              "      <th>572</th>\n",
              "      <td>75566000Target</td>\n",
              "      <td>75566000</td>\n",
              "      <td>Oral-B Cross Action Black Refill Heads - 3ct</td>\n",
              "      <td>Target</td>\n",
              "      <td>5.00</td>\n",
              "      <td>85.71</td>\n",
              "    </tr>\n",
              "    <tr>\n",
              "      <th>599</th>\n",
              "      <td>75661328Target</td>\n",
              "      <td>75661328</td>\n",
              "      <td>Oral-B Pro 1500 Electric Toothbrush</td>\n",
              "      <td>Target</td>\n",
              "      <td>10.00</td>\n",
              "      <td>85.71</td>\n",
              "    </tr>\n",
              "    <tr>\n",
              "      <th>500</th>\n",
              "      <td>52971851Target</td>\n",
              "      <td>52971851</td>\n",
              "      <td>Downy Unstopables In-Wash Original Scent Boost...</td>\n",
              "      <td>Target</td>\n",
              "      <td>1.05</td>\n",
              "      <td>84.98</td>\n",
              "    </tr>\n",
              "  </tbody>\n",
              "</table>\n",
              "</div>"
            ],
            "text/plain": [
              "              concat trusted_rpc                        trusted_product_description online_store  net_price  discount_percent\n",
              "356  973249Walgreens      973249               Dove Conditioner Coconut & Hydration    Walgreens       0.30             93.74\n",
              "659   75661335Target    75661335  Oral-B Rose Gold Genius 9600 Rechargeable Elec...       Target      20.00             90.00\n",
              "569   75661329Target    75661329  Oral-B Black Genius 9600 Rechargeable Electric...       Target      20.00             90.00\n",
              "566   75662986Target    75662986  Oral-B 9600 Orchid Purple Electric Toothbrush ...       Target      20.00             90.00\n",
              "661   75661331Target    75661331  Oral-B Sakura Pink Genius 9600 Rechargeable El...       Target      20.00             90.00\n",
              "509   75663807Target    75663807    Gain flings! Original Laundry Detergents - 96ct       Target       3.00             88.00\n",
              "546   16534645Target    16534645         Oral B Cross Action Power Refill - 3 count       Target       4.95             85.83\n",
              "572   75566000Target    75566000       Oral-B Cross Action Black Refill Heads - 3ct       Target       5.00             85.71\n",
              "599   75661328Target    75661328                Oral-B Pro 1500 Electric Toothbrush       Target      10.00             85.71\n",
              "500   52971851Target    52971851  Downy Unstopables In-Wash Original Scent Boost...       Target       1.05             84.98"
            ]
          },
          "metadata": {
            "tags": []
          },
          "execution_count": 19
        }
      ]
    },
    {
      "cell_type": "markdown",
      "metadata": {
        "id": "McBzYDJbTqGi",
        "colab_type": "text"
      },
      "source": [
        "# BQ Validation\n",
        "\n",
        "Comparing for same day as above\n"
      ]
    },
    {
      "cell_type": "code",
      "metadata": {
        "id": "mSt1M5o8gCD3",
        "colab_type": "code",
        "colab": {}
      },
      "source": [
        "%%bigquery --project cp-gaa-visualization-dev dfbq\n",
        "WITH\n",
        "  PrPromoConcat AS (\n",
        "  SELECT\n",
        "    CONCAT(trusted_rpc, online_store) AS concat,\n",
        "    trusted_rpc,\n",
        "    trusted_product_description,\n",
        "    online_store,\n",
        "    net_price,\n",
        "    discount_percent\n",
        "  FROM\n",
        "    `cp-gaa-visualization-dev.clavis.pricing_promotions`\n",
        "  WHERE\n",
        "    report_date = \"2019-05-10\"\n",
        "  LIMIT\n",
        "    1000 ),\n",
        "  PrPromoCTE AS (\n",
        "  SELECT\n",
        "    *,\n",
        "    ROW_NUMBER()OVER(PARTITION BY concat ORDER BY concat) AS RowNumber\n",
        "  FROM\n",
        "    PrPromoConcat )\n",
        "SELECT\n",
        "  trusted_rpc,\n",
        "  trusted_product_description,\n",
        "  online_store,\n",
        "  net_price,\n",
        "  discount_percent\n",
        "FROM\n",
        "  PrPromoCTE\n",
        "WHERE\n",
        "  RowNumber < 2\n",
        "ORDER BY\n",
        "  discount_percent DESC\n",
        "  "
      ],
      "execution_count": 0,
      "outputs": []
    },
    {
      "cell_type": "code",
      "metadata": {
        "id": "S4L98A0Ihtn-",
        "colab_type": "code",
        "colab": {
          "base_uri": "https://localhost:8080/",
          "height": 106
        },
        "outputId": "1bde5f6c-9aeb-4f01-defb-1a5d6012469f"
      },
      "source": [
        "dfbq.head(2)"
      ],
      "execution_count": 37,
      "outputs": [
        {
          "output_type": "execute_result",
          "data": {
            "text/html": [
              "<div>\n",
              "<style scoped>\n",
              "    .dataframe tbody tr th:only-of-type {\n",
              "        vertical-align: middle;\n",
              "    }\n",
              "\n",
              "    .dataframe tbody tr th {\n",
              "        vertical-align: top;\n",
              "    }\n",
              "\n",
              "    .dataframe thead th {\n",
              "        text-align: right;\n",
              "    }\n",
              "</style>\n",
              "<table border=\"1\" class=\"dataframe\">\n",
              "  <thead>\n",
              "    <tr style=\"text-align: right;\">\n",
              "      <th></th>\n",
              "      <th>trusted_rpc</th>\n",
              "      <th>trusted_product_description</th>\n",
              "      <th>online_store</th>\n",
              "      <th>net_price</th>\n",
              "      <th>discount_percent</th>\n",
              "    </tr>\n",
              "  </thead>\n",
              "  <tbody>\n",
              "    <tr>\n",
              "      <th>0</th>\n",
              "      <td>973249</td>\n",
              "      <td>Dove Conditioner Coconut &amp; Hydration</td>\n",
              "      <td>Walgreens</td>\n",
              "      <td>0.3</td>\n",
              "      <td>93.74</td>\n",
              "    </tr>\n",
              "    <tr>\n",
              "      <th>1</th>\n",
              "      <td>75661329</td>\n",
              "      <td>Oral-B Black Genius 9600 Rechargeable Electric...</td>\n",
              "      <td>Target</td>\n",
              "      <td>20</td>\n",
              "      <td>90.00</td>\n",
              "    </tr>\n",
              "  </tbody>\n",
              "</table>\n",
              "</div>"
            ],
            "text/plain": [
              "  trusted_rpc                        trusted_product_description online_store net_price  discount_percent\n",
              "0      973249               Dove Conditioner Coconut & Hydration    Walgreens       0.3             93.74\n",
              "1    75661329  Oral-B Black Genius 9600 Rechargeable Electric...       Target        20             90.00"
            ]
          },
          "metadata": {
            "tags": []
          },
          "execution_count": 37
        }
      ]
    },
    {
      "cell_type": "code",
      "metadata": {
        "id": "t6hCPDDci236",
        "colab_type": "code",
        "colab": {}
      },
      "source": [
        "from google.cloud import bigquery\n",
        "\n"
      ],
      "execution_count": 0,
      "outputs": []
    },
    {
      "cell_type": "code",
      "metadata": {
        "id": "5un4NarVlC5T",
        "colab_type": "code",
        "colab": {}
      },
      "source": [
        "# sample query from:\n",
        "# https://cloud.google.com/bigquery/public-data/openaq#which_10_locations_have_had_the_worst_air_quality_this_month_as_measured_by_high_pm10\n",
        "QUERY = \"\"\"\n",
        "        WITH\n",
        "  PrPromoConcat AS (\n",
        "  SELECT\n",
        "    CONCAT(trusted_rpc, online_store) AS concat,\n",
        "    trusted_rpc,\n",
        "    trusted_product_description,\n",
        "    online_store,\n",
        "    net_price,\n",
        "    discount_percent\n",
        "  FROM\n",
        "    `cp-gaa-visualization-dev.clavis.pricing_promotions`\n",
        "  WHERE\n",
        "    report_date = \"2019-05-10\"\n",
        "  LIMIT\n",
        "    1000 ),\n",
        "  PrPromoCTE AS (\n",
        "  SELECT\n",
        "    *,\n",
        "    ROW_NUMBER()OVER(PARTITION BY concat ORDER BY concat) AS RowNumber\n",
        "  FROM\n",
        "    PrPromoConcat )\n",
        "SELECT\n",
        "  trusted_rpc,\n",
        "  trusted_product_description,\n",
        "  online_store,\n",
        "  net_price,\n",
        "  discount_percent\n",
        "FROM\n",
        "  PrPromoCTE\n",
        "WHERE\n",
        "  RowNumber < 2\n",
        "ORDER BY\n",
        "  discount_percent DESC\n",
        "        \"\"\""
      ],
      "execution_count": 0,
      "outputs": []
    },
    {
      "cell_type": "code",
      "metadata": {
        "id": "6IBPvDsnl9TG",
        "colab_type": "code",
        "colab": {
          "base_uri": "https://localhost:8080/",
          "height": 34
        },
        "outputId": "755396de-1ed3-4f35-d8b1-423d2b10ac6f"
      },
      "source": [
        "print(GCLOUD_PROJECT)"
      ],
      "execution_count": 68,
      "outputs": [
        {
          "output_type": "stream",
          "text": [
            "cp-gaa-visualization-dev\n"
          ],
          "name": "stdout"
        }
      ]
    },
    {
      "cell_type": "code",
      "metadata": {
        "id": "qBhzBHsGTqGk",
        "colab_type": "code",
        "outputId": "998e5194-8aa3-4d4a-c628-1beff5df9c7f",
        "colab": {
          "base_uri": "https://localhost:8080/",
          "height": 136
        }
      },
      "source": [
        "client = bigquery.Client( GCLOUD_PROJECT)\n",
        "query_job = client.query(QUERY)\n",
        "df = query_job.to_dataframe()\n",
        "df.head(3)\n"
      ],
      "execution_count": 69,
      "outputs": [
        {
          "output_type": "execute_result",
          "data": {
            "text/html": [
              "<div>\n",
              "<style scoped>\n",
              "    .dataframe tbody tr th:only-of-type {\n",
              "        vertical-align: middle;\n",
              "    }\n",
              "\n",
              "    .dataframe tbody tr th {\n",
              "        vertical-align: top;\n",
              "    }\n",
              "\n",
              "    .dataframe thead th {\n",
              "        text-align: right;\n",
              "    }\n",
              "</style>\n",
              "<table border=\"1\" class=\"dataframe\">\n",
              "  <thead>\n",
              "    <tr style=\"text-align: right;\">\n",
              "      <th></th>\n",
              "      <th>trusted_rpc</th>\n",
              "      <th>trusted_product_description</th>\n",
              "      <th>online_store</th>\n",
              "      <th>net_price</th>\n",
              "      <th>discount_percent</th>\n",
              "    </tr>\n",
              "  </thead>\n",
              "  <tbody>\n",
              "    <tr>\n",
              "      <th>0</th>\n",
              "      <td>973249</td>\n",
              "      <td>Dove Conditioner Coconut &amp; Hydration</td>\n",
              "      <td>Walgreens</td>\n",
              "      <td>0.3</td>\n",
              "      <td>93.74</td>\n",
              "    </tr>\n",
              "    <tr>\n",
              "      <th>1</th>\n",
              "      <td>75661329</td>\n",
              "      <td>Oral-B Black Genius 9600 Rechargeable Electric...</td>\n",
              "      <td>Target</td>\n",
              "      <td>20</td>\n",
              "      <td>90.00</td>\n",
              "    </tr>\n",
              "    <tr>\n",
              "      <th>2</th>\n",
              "      <td>75661331</td>\n",
              "      <td>Oral-B Sakura Pink Genius 9600 Rechargeable El...</td>\n",
              "      <td>Target</td>\n",
              "      <td>20</td>\n",
              "      <td>90.00</td>\n",
              "    </tr>\n",
              "  </tbody>\n",
              "</table>\n",
              "</div>"
            ],
            "text/plain": [
              "  trusted_rpc                        trusted_product_description online_store net_price  discount_percent\n",
              "0      973249               Dove Conditioner Coconut & Hydration    Walgreens       0.3             93.74\n",
              "1    75661329  Oral-B Black Genius 9600 Rechargeable Electric...       Target        20             90.00\n",
              "2    75661331  Oral-B Sakura Pink Genius 9600 Rechargeable El...       Target        20             90.00"
            ]
          },
          "metadata": {
            "tags": []
          },
          "execution_count": 69
        }
      ]
    },
    {
      "cell_type": "code",
      "metadata": {
        "id": "KzGjO_MxmPTO",
        "colab_type": "code",
        "colab": {}
      },
      "source": [
        "from google.cloud import bigquery\n",
        "client = bigquery.Client(GCLOUD_PROJECT)"
      ],
      "execution_count": 0,
      "outputs": []
    },
    {
      "cell_type": "code",
      "metadata": {
        "id": "CqRVlJRBTqGq",
        "colab_type": "code",
        "outputId": "c8ec15f5-3429-4b00-f36c-c37134640cac",
        "colab": {
          "base_uri": "https://localhost:8080/",
          "height": 195
        }
      },
      "source": [
        "sql = \"\"\"\n",
        "WITH\n",
        "  PrPromoConcat AS (\n",
        "  SELECT\n",
        "    CONCAT(trusted_rpc, online_store) AS concat,\n",
        "    trusted_rpc,\n",
        "    trusted_product_description,\n",
        "    online_store,\n",
        "    net_price,\n",
        "    discount_percent\n",
        "  FROM\n",
        "    `cp-gaa-visualization-dev.clavis.pricing_promotions`\n",
        "  WHERE\n",
        "    report_date = \"2019-05-10\"\n",
        "  LIMIT\n",
        "    1000 ),\n",
        "  PrPromoCTE AS (\n",
        "  SELECT\n",
        "    *,\n",
        "    ROW_NUMBER()OVER(PARTITION BY concat ORDER BY concat) AS RowNumber\n",
        "  FROM\n",
        "    PrPromoConcat )\n",
        "SELECT\n",
        "  trusted_rpc,\n",
        "  trusted_product_description,\n",
        "  online_store,\n",
        "  net_price,\n",
        "  discount_percent\n",
        "FROM\n",
        "  PrPromoCTE\n",
        "WHERE\n",
        "  RowNumber < 2\n",
        "ORDER BY\n",
        "  discount_percent DESC\n",
        "\"\"\"\n",
        "dfbq = client.query(sql).to_dataframe()\n",
        "dfbq.head()"
      ],
      "execution_count": 71,
      "outputs": [
        {
          "output_type": "execute_result",
          "data": {
            "text/html": [
              "<div>\n",
              "<style scoped>\n",
              "    .dataframe tbody tr th:only-of-type {\n",
              "        vertical-align: middle;\n",
              "    }\n",
              "\n",
              "    .dataframe tbody tr th {\n",
              "        vertical-align: top;\n",
              "    }\n",
              "\n",
              "    .dataframe thead th {\n",
              "        text-align: right;\n",
              "    }\n",
              "</style>\n",
              "<table border=\"1\" class=\"dataframe\">\n",
              "  <thead>\n",
              "    <tr style=\"text-align: right;\">\n",
              "      <th></th>\n",
              "      <th>trusted_rpc</th>\n",
              "      <th>trusted_product_description</th>\n",
              "      <th>online_store</th>\n",
              "      <th>net_price</th>\n",
              "      <th>discount_percent</th>\n",
              "    </tr>\n",
              "  </thead>\n",
              "  <tbody>\n",
              "    <tr>\n",
              "      <th>0</th>\n",
              "      <td>973249</td>\n",
              "      <td>Dove Conditioner Coconut &amp; Hydration</td>\n",
              "      <td>Walgreens</td>\n",
              "      <td>0.3</td>\n",
              "      <td>93.74</td>\n",
              "    </tr>\n",
              "    <tr>\n",
              "      <th>1</th>\n",
              "      <td>75661329</td>\n",
              "      <td>Oral-B Black Genius 9600 Rechargeable Electric...</td>\n",
              "      <td>Target</td>\n",
              "      <td>20</td>\n",
              "      <td>90.00</td>\n",
              "    </tr>\n",
              "    <tr>\n",
              "      <th>2</th>\n",
              "      <td>75661331</td>\n",
              "      <td>Oral-B Sakura Pink Genius 9600 Rechargeable El...</td>\n",
              "      <td>Target</td>\n",
              "      <td>20</td>\n",
              "      <td>90.00</td>\n",
              "    </tr>\n",
              "    <tr>\n",
              "      <th>3</th>\n",
              "      <td>75661335</td>\n",
              "      <td>Oral-B Rose Gold Genius 9600 Rechargeable Elec...</td>\n",
              "      <td>Target</td>\n",
              "      <td>20</td>\n",
              "      <td>90.00</td>\n",
              "    </tr>\n",
              "    <tr>\n",
              "      <th>4</th>\n",
              "      <td>75662986</td>\n",
              "      <td>Oral-B 9600 Orchid Purple Electric Toothbrush ...</td>\n",
              "      <td>Target</td>\n",
              "      <td>20</td>\n",
              "      <td>90.00</td>\n",
              "    </tr>\n",
              "  </tbody>\n",
              "</table>\n",
              "</div>"
            ],
            "text/plain": [
              "  trusted_rpc                        trusted_product_description online_store net_price  discount_percent\n",
              "0      973249               Dove Conditioner Coconut & Hydration    Walgreens       0.3             93.74\n",
              "1    75661329  Oral-B Black Genius 9600 Rechargeable Electric...       Target        20             90.00\n",
              "2    75661331  Oral-B Sakura Pink Genius 9600 Rechargeable El...       Target        20             90.00\n",
              "3    75661335  Oral-B Rose Gold Genius 9600 Rechargeable Elec...       Target        20             90.00\n",
              "4    75662986  Oral-B 9600 Orchid Purple Electric Toothbrush ...       Target        20             90.00"
            ]
          },
          "metadata": {
            "tags": []
          },
          "execution_count": 71
        }
      ]
    },
    {
      "cell_type": "code",
      "metadata": {
        "id": "S7lRx9N1TqGt",
        "colab_type": "code",
        "outputId": "c1f24bd6-09b0-43b0-fad0-14acae1de4ba",
        "colab": {
          "base_uri": "https://localhost:8080/",
          "height": 118
        }
      },
      "source": [
        "dfbq.count()"
      ],
      "execution_count": 72,
      "outputs": [
        {
          "output_type": "execute_result",
          "data": {
            "text/plain": [
              "trusted_rpc                    771\n",
              "trusted_product_description    771\n",
              "online_store                   771\n",
              "net_price                      771\n",
              "discount_percent               771\n",
              "dtype: int64"
            ]
          },
          "metadata": {
            "tags": []
          },
          "execution_count": 72
        }
      ]
    },
    {
      "cell_type": "code",
      "metadata": {
        "id": "I1b0_54xTqGw",
        "colab_type": "code",
        "colab": {}
      },
      "source": [
        ""
      ],
      "execution_count": 0,
      "outputs": []
    },
    {
      "cell_type": "code",
      "metadata": {
        "id": "C3jAYXu_TqGz",
        "colab_type": "code",
        "colab": {}
      },
      "source": [
        ""
      ],
      "execution_count": 0,
      "outputs": []
    },
    {
      "cell_type": "code",
      "metadata": {
        "id": "LIJMv9FYTqG2",
        "colab_type": "code",
        "colab": {}
      },
      "source": [
        ""
      ],
      "execution_count": 0,
      "outputs": []
    },
    {
      "cell_type": "code",
      "metadata": {
        "id": "wMXtXMvJTqG5",
        "colab_type": "code",
        "colab": {}
      },
      "source": [
        ""
      ],
      "execution_count": 0,
      "outputs": []
    },
    {
      "cell_type": "code",
      "metadata": {
        "id": "B7AXaoKHTqG7",
        "colab_type": "code",
        "colab": {}
      },
      "source": [
        ""
      ],
      "execution_count": 0,
      "outputs": []
    },
    {
      "cell_type": "code",
      "metadata": {
        "id": "pTkoHm4ETqG-",
        "colab_type": "code",
        "colab": {}
      },
      "source": [
        ""
      ],
      "execution_count": 0,
      "outputs": []
    },
    {
      "cell_type": "code",
      "metadata": {
        "id": "itTU7oMDTqHD",
        "colab_type": "code",
        "colab": {}
      },
      "source": [
        ""
      ],
      "execution_count": 0,
      "outputs": []
    }
  ]
}